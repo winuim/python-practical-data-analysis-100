{
 "cells": [
  {
   "cell_type": "markdown",
   "metadata": {},
   "source": [
    "# 9章 潜在顧客を把握するための画像認識１０本\n",
    "\n",
    "ここでは、カメラから取得した映像を用いて画像認識を行い、  \n",
    "必要な情報を取得するための流れを学ぶことで、  \n",
    "画像認識をビジネス現場で応用するイメージをつかみます。"
   ]
  },
  {
   "cell_type": "markdown",
   "metadata": {},
   "source": [
    "### ノック８１：画像データを読み込んでみよう"
   ]
  },
  {
   "cell_type": "code",
   "execution_count": 2,
   "metadata": {},
   "outputs": [
    {
     "name": "stdout",
     "output_type": "stream",
     "text": [
      "画像幅：1920\n",
      "画像高さ：1440\n"
     ]
    }
   ],
   "source": [
    "import cv2\n",
    "img = cv2.imread(\"img/img01.jpg\")\n",
    "height, width = img.shape[:2]\n",
    "print(\"画像幅：\" + str(width))\n",
    "print(\"画像高さ：\" + str(height))\n",
    "cv2.imshow(\"img\", img)\n",
    "cv2.waitKey(0)\n",
    "cv2.destroyAllWindows()"
   ]
  },
  {
   "cell_type": "markdown",
   "metadata": {},
   "source": [
    "### ノック８２：映像データを読み込んでみよう"
   ]
  },
  {
   "cell_type": "code",
   "execution_count": 3,
   "metadata": {},
   "outputs": [
    {
     "name": "stdout",
     "output_type": "stream",
     "text": [
      "画像幅：1920.0\n",
      "画像高さ：1440.0\n",
      "総フレーム数：401.0\n",
      "FPS：30.0\n"
     ]
    }
   ],
   "source": [
    "import cv2\n",
    "\n",
    "cap = cv2.VideoCapture(\"mov/mov01.avi\")\n",
    "width = cap.get(cv2.CAP_PROP_FRAME_WIDTH)\n",
    "height = cap.get(cv2.CAP_PROP_FRAME_HEIGHT)\n",
    "count = cap.get(cv2.CAP_PROP_FRAME_COUNT)\n",
    "fps = cap.get(cv2.CAP_PROP_FPS)\n",
    "print(\"画像幅：\"+str(width))\n",
    "print(\"画像高さ：\"+str(height))\n",
    "print(\"総フレーム数：\"+str(count))\n",
    "print(\"FPS：\"+str(fps))\n",
    "\n",
    "while(cap.isOpened()):\n",
    "    ret, frame = cap.read()\n",
    "    if ret:\n",
    "        cv2.imshow(\"frame\", frame)\n",
    "    if cv2.waitKey(1) & 0xFF == ord(\"q\"):\n",
    "        break\n",
    "\n",
    "cap.release()\n",
    "cv2.destroyAllWindows()"
   ]
  },
  {
   "cell_type": "markdown",
   "metadata": {},
   "source": [
    "### ノック８３：映像を画像に分割し、保存してみよう"
   ]
  },
  {
   "cell_type": "code",
   "execution_count": 4,
   "metadata": {},
   "outputs": [],
   "source": [
    "import cv2\n",
    "\n",
    "cap = cv2.VideoCapture(\"mov/mov01.avi\")\n",
    "num = 0\n",
    "while(cap.isOpened()):\n",
    "    ret, frame = cap.read()\n",
    "    if ret:\n",
    "        cv2.imshow(\"frame\", frame)\n",
    "        filepath = \"snapshot/shapshot_\" + str(num) + \".jpg\"\n",
    "        cv2.imwrite(filepath, frame)\n",
    "    if cv2.waitKey(1) & 0xFF == ord(\"q\"):\n",
    "        break\n",
    "    num = num + 1\n",
    "\n",
    "cap.release()\n",
    "cv2.destroyAllWindows()"
   ]
  },
  {
   "cell_type": "markdown",
   "metadata": {},
   "source": [
    "### ノック８４：画像内のどこに人がいるのかを検出してみよう"
   ]
  },
  {
   "cell_type": "code",
   "execution_count": 5,
   "metadata": {},
   "outputs": [],
   "source": [
    "import cv2\n",
    "\n",
    "hog = cv2.HOGDescriptor()\n",
    "hog.setSVMDetector(cv2.HOGDescriptor_getDefaultPeopleDetector())\n",
    "hogParams = {\"winStride\": (8,8), \"padding\": (32,32), \"scale\": 1.05, \"hitThreshold\": 0, \"finalThreshold\": 5}\n",
    "\n",
    "img = cv2.imread(\"img/img01.jpg\")\n",
    "gray = cv2.cvtColor(img, cv2.COLOR_BGR2GRAY)\n",
    "human, r = hog.detectMultiScale(gray, **hogParams)\n",
    "if (len(human) > 0):\n",
    "    for (x, y, w, h) in human:\n",
    "        cv2.rectangle(img, (x,y), (x+w, y+h), (255,255,255), 3)\n",
    "cv2.imshow(\"img\", img)\n",
    "cv2.waitKey(0)\n",
    "cv2.destroyAllWindows()"
   ]
  },
  {
   "cell_type": "markdown",
   "metadata": {},
   "source": [
    "### ノック８５：画像内の人の顔を検出してみよう"
   ]
  },
  {
   "cell_type": "code",
   "execution_count": 6,
   "metadata": {},
   "outputs": [],
   "source": [
    "import cv2\n",
    "\n",
    "cascade_file = \"haarcascade_frontalface_alt.xml\"\n",
    "cascade = cv2.CascadeClassifier(cascade_file)\n",
    "\n",
    "img = cv2.imread(\"img/img02.jpg\")\n",
    "gray = cv2.cvtColor(img, cv2.COLOR_BGR2GRAY)\n",
    "face_list = cascade.detectMultiScale(gray, minSize=(50,50))\n",
    "\n",
    "for (x, y, w, h) in face_list:\n",
    "    color = (0, 0, 225)\n",
    "    pen_w = 3\n",
    "    cv2.rectangle(img, (x, y), (x+w, y+h), color, thickness=pen_w)\n",
    "\n",
    "cv2.imshow(\"img\", img)\n",
    "cv2.imwrite(\"temp.jpg\", img)\n",
    "cv2.waitKey(0)\n",
    "cv2.destroyAllWindows()"
   ]
  },
  {
   "cell_type": "markdown",
   "metadata": {},
   "source": [
    "### ノック８６：画像内の人がどこに顔を向けているのかを検出してみよう"
   ]
  },
  {
   "cell_type": "code",
   "execution_count": 7,
   "metadata": {},
   "outputs": [
    {
     "name": "stdout",
     "output_type": "stream",
     "text": [
      "顔方位：0.06456096931747406 (角度：3.6990710631648662度\n"
     ]
    },
    {
     "data": {
      "text/plain": [
       "113"
      ]
     },
     "execution_count": 7,
     "metadata": {},
     "output_type": "execute_result"
    }
   ],
   "source": [
    "import cv2\n",
    "import dlib\n",
    "import math\n",
    "\n",
    "predictor = dlib.shape_predictor(\"shape_predictor_68_face_landmarks.dat\")\n",
    "detector = dlib.get_frontal_face_detector()\n",
    "\n",
    "img = cv2.imread(\"img/img02.jpg\")\n",
    "dets = detector(img, 1)\n",
    "\n",
    "for k, d in enumerate(dets):\n",
    "    shape = predictor(img, d)\n",
    "\n",
    "    color_f = (0, 0, 225)\n",
    "    color_l_out = (255, 0, 0)\n",
    "    color_l_in = (0, 255, 0)\n",
    "    line_w = 3\n",
    "    circle_r = 3\n",
    "    fontType = cv2.FONT_HERSHEY_SIMPLEX\n",
    "    fontSize = 1\n",
    "    cv2.rectangle(img, (d.left(), d.top()), (d.right(), d.bottom()), color_f, line_w)\n",
    "    cv2.putText(img, str(k), (d.left(), d.top()), fontType, fontSize, color_f, line_w)\n",
    "\n",
    "    num_of_points_out = 17\n",
    "    num_of_points_in = shape.num_parts - num_of_points_out\n",
    "    gx_out = 0\n",
    "    gy_out = 0\n",
    "    gx_in = 0\n",
    "    gy_in = 0\n",
    "    for shape_point_count in range(shape.num_parts):\n",
    "        shape_point = shape.part(shape_point_count)\n",
    "\n",
    "        if shape_point_count < num_of_points_out:\n",
    "            cv2.circle(img, (shape_point.x, shape_point.y), circle_r, color_l_out, line_w)\n",
    "            gx_out = gx_out + shape_point.x / num_of_points_out\n",
    "            gy_out = gy_out + shape_point.y / num_of_points_out\n",
    "        else:\n",
    "            cv2.circle(img, (shape_point.x, shape_point.y), circle_r, color_l_in, line_w)\n",
    "            gx_in = gx_in + shape_point.x / num_of_points_in\n",
    "            gy_in = gy_in + shape_point.y / num_of_points_in\n",
    "    \n",
    "    cv2.circle(img, (int(gx_out), int(gy_out)), circle_r, (0,0,255), line_w)\n",
    "    cv2.circle(img, (int(gx_in), int(gy_in)), circle_r, (0,0,0), line_w)\n",
    "\n",
    "    theta = math.asin(2*(gx_in - gx_out)/(d.right() - d.left()))\n",
    "    radian = theta * 180 / math.pi\n",
    "    print(\"顔方位：{} (角度：{}度\".format(theta, radian))\n",
    "\n",
    "    if radian < 0:\n",
    "        textPrefix = \"   left \"\n",
    "    else:\n",
    "        textPrefix = \"  right \"\n",
    "    textShow = textPrefix + str(round(abs(radian), 1)) + \" deg.\"\n",
    "    cv2.putText(img, textShow, (d.left(), d.top()), fontType, fontSize, color_f, line_w)\n",
    "\n",
    "cv2.imshow(\"img\", img)\n",
    "cv2.imwrite(\"temp.jpg\", img)\n",
    "cv2.waitKey(0)    "
   ]
  },
  {
   "cell_type": "markdown",
   "metadata": {},
   "source": [
    "### ノック８７：検出した情報を統合し、タイムラプスを作ってみよう"
   ]
  },
  {
   "cell_type": "code",
   "execution_count": 8,
   "metadata": {},
   "outputs": [
    {
     "name": "stdout",
     "output_type": "stream",
     "text": [
      "タイムラプス生成を開始します\n",
      "タイムラプス生成を終了しました\n"
     ]
    }
   ],
   "source": [
    "import cv2\n",
    "\n",
    "print(\"タイムラプス生成を開始します\")\n",
    "\n",
    "cap = cv2.VideoCapture(\"mov/mov01.avi\")\n",
    "width = int(cap.get(cv2.CAP_PROP_FRAME_WIDTH))\n",
    "height = int(cap.get(cv2.CAP_PROP_FRAME_HEIGHT))\n",
    "\n",
    "hog = cv2.HOGDescriptor()\n",
    "hog.setSVMDetector(cv2.HOGDescriptor_getDefaultPeopleDetector())\n",
    "hogParams = {\"winStride\": (8,8), \"padding\": (32,32), \"scale\": 1.05, \"hitThreshold\": 0, \"finalThreshold\": 5}\n",
    "\n",
    "movie_name = \"timelapse.avi\"\n",
    "fourcc = cv2.VideoWriter_fourcc(\"X\", \"V\", \"I\", \"D\")\n",
    "video = cv2.VideoWriter(movie_name, fourcc, 30, (width, height))\n",
    "\n",
    "num = 0\n",
    "while(cap.isOpened()):\n",
    "    ret, frame = cap.read()\n",
    "    if ret:\n",
    "        if (num%10==0):\n",
    "            gray = cv2.cvtColor(frame, cv2.COLOR_BGR2GRAY)\n",
    "            human, r = hog.detectMultiScale(gray, **hogParams)\n",
    "            if (len(human)>0):\n",
    "                for (x, y, w, h) in human:\n",
    "                    cv2.rectangle(frame, (x,y), (x+w, y+h), (225,255,255), 3)\n",
    "            video.write(frame)\n",
    "    else:\n",
    "        break\n",
    "    num = num + 1\n",
    "\n",
    "video.release()\n",
    "cap.release()\n",
    "cv2.destroyAllWindows()\n",
    "print(\"タイムラプス生成を終了しました\")"
   ]
  },
  {
   "cell_type": "markdown",
   "metadata": {},
   "source": [
    "### ノック８８：全体像をグラフにして可視化してみよう"
   ]
  },
  {
   "cell_type": "code",
   "execution_count": 4,
   "metadata": {},
   "outputs": [
    {
     "name": "stdout",
     "output_type": "stream",
     "text": [
      "分析を開始します\n"
     ]
    },
    {
     "name": "stderr",
     "output_type": "stream",
     "text": [
      "/var/folders/fw/kx5t6xkn0fggtv3vr8c913zc0000gn/T/ipykernel_7481/2669804374.py:24: FutureWarning: The frame.append method is deprecated and will be removed from pandas in a future version. Use pandas.concat instead.\n",
      "  list_df = list_df.append(tmp_se, ignore_index=True)\n",
      "/var/folders/fw/kx5t6xkn0fggtv3vr8c913zc0000gn/T/ipykernel_7481/2669804374.py:24: FutureWarning: The frame.append method is deprecated and will be removed from pandas in a future version. Use pandas.concat instead.\n",
      "  list_df = list_df.append(tmp_se, ignore_index=True)\n",
      "/var/folders/fw/kx5t6xkn0fggtv3vr8c913zc0000gn/T/ipykernel_7481/2669804374.py:24: FutureWarning: The frame.append method is deprecated and will be removed from pandas in a future version. Use pandas.concat instead.\n",
      "  list_df = list_df.append(tmp_se, ignore_index=True)\n",
      "/var/folders/fw/kx5t6xkn0fggtv3vr8c913zc0000gn/T/ipykernel_7481/2669804374.py:24: FutureWarning: The frame.append method is deprecated and will be removed from pandas in a future version. Use pandas.concat instead.\n",
      "  list_df = list_df.append(tmp_se, ignore_index=True)\n",
      "/var/folders/fw/kx5t6xkn0fggtv3vr8c913zc0000gn/T/ipykernel_7481/2669804374.py:24: FutureWarning: The frame.append method is deprecated and will be removed from pandas in a future version. Use pandas.concat instead.\n",
      "  list_df = list_df.append(tmp_se, ignore_index=True)\n",
      "/var/folders/fw/kx5t6xkn0fggtv3vr8c913zc0000gn/T/ipykernel_7481/2669804374.py:24: FutureWarning: The frame.append method is deprecated and will be removed from pandas in a future version. Use pandas.concat instead.\n",
      "  list_df = list_df.append(tmp_se, ignore_index=True)\n",
      "/var/folders/fw/kx5t6xkn0fggtv3vr8c913zc0000gn/T/ipykernel_7481/2669804374.py:24: FutureWarning: The frame.append method is deprecated and will be removed from pandas in a future version. Use pandas.concat instead.\n",
      "  list_df = list_df.append(tmp_se, ignore_index=True)\n",
      "/var/folders/fw/kx5t6xkn0fggtv3vr8c913zc0000gn/T/ipykernel_7481/2669804374.py:24: FutureWarning: The frame.append method is deprecated and will be removed from pandas in a future version. Use pandas.concat instead.\n",
      "  list_df = list_df.append(tmp_se, ignore_index=True)\n",
      "/var/folders/fw/kx5t6xkn0fggtv3vr8c913zc0000gn/T/ipykernel_7481/2669804374.py:24: FutureWarning: The frame.append method is deprecated and will be removed from pandas in a future version. Use pandas.concat instead.\n",
      "  list_df = list_df.append(tmp_se, ignore_index=True)\n",
      "/var/folders/fw/kx5t6xkn0fggtv3vr8c913zc0000gn/T/ipykernel_7481/2669804374.py:24: FutureWarning: The frame.append method is deprecated and will be removed from pandas in a future version. Use pandas.concat instead.\n",
      "  list_df = list_df.append(tmp_se, ignore_index=True)\n",
      "/var/folders/fw/kx5t6xkn0fggtv3vr8c913zc0000gn/T/ipykernel_7481/2669804374.py:24: FutureWarning: The frame.append method is deprecated and will be removed from pandas in a future version. Use pandas.concat instead.\n",
      "  list_df = list_df.append(tmp_se, ignore_index=True)\n",
      "/var/folders/fw/kx5t6xkn0fggtv3vr8c913zc0000gn/T/ipykernel_7481/2669804374.py:24: FutureWarning: The frame.append method is deprecated and will be removed from pandas in a future version. Use pandas.concat instead.\n",
      "  list_df = list_df.append(tmp_se, ignore_index=True)\n",
      "/var/folders/fw/kx5t6xkn0fggtv3vr8c913zc0000gn/T/ipykernel_7481/2669804374.py:24: FutureWarning: The frame.append method is deprecated and will be removed from pandas in a future version. Use pandas.concat instead.\n",
      "  list_df = list_df.append(tmp_se, ignore_index=True)\n",
      "/var/folders/fw/kx5t6xkn0fggtv3vr8c913zc0000gn/T/ipykernel_7481/2669804374.py:24: FutureWarning: The frame.append method is deprecated and will be removed from pandas in a future version. Use pandas.concat instead.\n",
      "  list_df = list_df.append(tmp_se, ignore_index=True)\n",
      "/var/folders/fw/kx5t6xkn0fggtv3vr8c913zc0000gn/T/ipykernel_7481/2669804374.py:24: FutureWarning: The frame.append method is deprecated and will be removed from pandas in a future version. Use pandas.concat instead.\n",
      "  list_df = list_df.append(tmp_se, ignore_index=True)\n",
      "/var/folders/fw/kx5t6xkn0fggtv3vr8c913zc0000gn/T/ipykernel_7481/2669804374.py:24: FutureWarning: The frame.append method is deprecated and will be removed from pandas in a future version. Use pandas.concat instead.\n",
      "  list_df = list_df.append(tmp_se, ignore_index=True)\n",
      "/var/folders/fw/kx5t6xkn0fggtv3vr8c913zc0000gn/T/ipykernel_7481/2669804374.py:24: FutureWarning: The frame.append method is deprecated and will be removed from pandas in a future version. Use pandas.concat instead.\n",
      "  list_df = list_df.append(tmp_se, ignore_index=True)\n",
      "/var/folders/fw/kx5t6xkn0fggtv3vr8c913zc0000gn/T/ipykernel_7481/2669804374.py:24: FutureWarning: The frame.append method is deprecated and will be removed from pandas in a future version. Use pandas.concat instead.\n",
      "  list_df = list_df.append(tmp_se, ignore_index=True)\n",
      "/var/folders/fw/kx5t6xkn0fggtv3vr8c913zc0000gn/T/ipykernel_7481/2669804374.py:24: FutureWarning: The frame.append method is deprecated and will be removed from pandas in a future version. Use pandas.concat instead.\n",
      "  list_df = list_df.append(tmp_se, ignore_index=True)\n",
      "/var/folders/fw/kx5t6xkn0fggtv3vr8c913zc0000gn/T/ipykernel_7481/2669804374.py:24: FutureWarning: The frame.append method is deprecated and will be removed from pandas in a future version. Use pandas.concat instead.\n",
      "  list_df = list_df.append(tmp_se, ignore_index=True)\n",
      "/var/folders/fw/kx5t6xkn0fggtv3vr8c913zc0000gn/T/ipykernel_7481/2669804374.py:24: FutureWarning: The frame.append method is deprecated and will be removed from pandas in a future version. Use pandas.concat instead.\n",
      "  list_df = list_df.append(tmp_se, ignore_index=True)\n",
      "/var/folders/fw/kx5t6xkn0fggtv3vr8c913zc0000gn/T/ipykernel_7481/2669804374.py:24: FutureWarning: The frame.append method is deprecated and will be removed from pandas in a future version. Use pandas.concat instead.\n",
      "  list_df = list_df.append(tmp_se, ignore_index=True)\n",
      "/var/folders/fw/kx5t6xkn0fggtv3vr8c913zc0000gn/T/ipykernel_7481/2669804374.py:24: FutureWarning: The frame.append method is deprecated and will be removed from pandas in a future version. Use pandas.concat instead.\n",
      "  list_df = list_df.append(tmp_se, ignore_index=True)\n",
      "/var/folders/fw/kx5t6xkn0fggtv3vr8c913zc0000gn/T/ipykernel_7481/2669804374.py:24: FutureWarning: The frame.append method is deprecated and will be removed from pandas in a future version. Use pandas.concat instead.\n",
      "  list_df = list_df.append(tmp_se, ignore_index=True)\n",
      "/var/folders/fw/kx5t6xkn0fggtv3vr8c913zc0000gn/T/ipykernel_7481/2669804374.py:24: FutureWarning: The frame.append method is deprecated and will be removed from pandas in a future version. Use pandas.concat instead.\n",
      "  list_df = list_df.append(tmp_se, ignore_index=True)\n",
      "/var/folders/fw/kx5t6xkn0fggtv3vr8c913zc0000gn/T/ipykernel_7481/2669804374.py:24: FutureWarning: The frame.append method is deprecated and will be removed from pandas in a future version. Use pandas.concat instead.\n",
      "  list_df = list_df.append(tmp_se, ignore_index=True)\n",
      "/var/folders/fw/kx5t6xkn0fggtv3vr8c913zc0000gn/T/ipykernel_7481/2669804374.py:24: FutureWarning: The frame.append method is deprecated and will be removed from pandas in a future version. Use pandas.concat instead.\n",
      "  list_df = list_df.append(tmp_se, ignore_index=True)\n",
      "/var/folders/fw/kx5t6xkn0fggtv3vr8c913zc0000gn/T/ipykernel_7481/2669804374.py:24: FutureWarning: The frame.append method is deprecated and will be removed from pandas in a future version. Use pandas.concat instead.\n",
      "  list_df = list_df.append(tmp_se, ignore_index=True)\n",
      "/var/folders/fw/kx5t6xkn0fggtv3vr8c913zc0000gn/T/ipykernel_7481/2669804374.py:24: FutureWarning: The frame.append method is deprecated and will be removed from pandas in a future version. Use pandas.concat instead.\n",
      "  list_df = list_df.append(tmp_se, ignore_index=True)\n",
      "/var/folders/fw/kx5t6xkn0fggtv3vr8c913zc0000gn/T/ipykernel_7481/2669804374.py:24: FutureWarning: The frame.append method is deprecated and will be removed from pandas in a future version. Use pandas.concat instead.\n",
      "  list_df = list_df.append(tmp_se, ignore_index=True)\n",
      "/var/folders/fw/kx5t6xkn0fggtv3vr8c913zc0000gn/T/ipykernel_7481/2669804374.py:24: FutureWarning: The frame.append method is deprecated and will be removed from pandas in a future version. Use pandas.concat instead.\n",
      "  list_df = list_df.append(tmp_se, ignore_index=True)\n",
      "/var/folders/fw/kx5t6xkn0fggtv3vr8c913zc0000gn/T/ipykernel_7481/2669804374.py:24: FutureWarning: The frame.append method is deprecated and will be removed from pandas in a future version. Use pandas.concat instead.\n",
      "  list_df = list_df.append(tmp_se, ignore_index=True)\n",
      "/var/folders/fw/kx5t6xkn0fggtv3vr8c913zc0000gn/T/ipykernel_7481/2669804374.py:24: FutureWarning: The frame.append method is deprecated and will be removed from pandas in a future version. Use pandas.concat instead.\n",
      "  list_df = list_df.append(tmp_se, ignore_index=True)\n",
      "/var/folders/fw/kx5t6xkn0fggtv3vr8c913zc0000gn/T/ipykernel_7481/2669804374.py:24: FutureWarning: The frame.append method is deprecated and will be removed from pandas in a future version. Use pandas.concat instead.\n",
      "  list_df = list_df.append(tmp_se, ignore_index=True)\n",
      "/var/folders/fw/kx5t6xkn0fggtv3vr8c913zc0000gn/T/ipykernel_7481/2669804374.py:24: FutureWarning: The frame.append method is deprecated and will be removed from pandas in a future version. Use pandas.concat instead.\n",
      "  list_df = list_df.append(tmp_se, ignore_index=True)\n",
      "/var/folders/fw/kx5t6xkn0fggtv3vr8c913zc0000gn/T/ipykernel_7481/2669804374.py:24: FutureWarning: The frame.append method is deprecated and will be removed from pandas in a future version. Use pandas.concat instead.\n",
      "  list_df = list_df.append(tmp_se, ignore_index=True)\n",
      "/var/folders/fw/kx5t6xkn0fggtv3vr8c913zc0000gn/T/ipykernel_7481/2669804374.py:24: FutureWarning: The frame.append method is deprecated and will be removed from pandas in a future version. Use pandas.concat instead.\n",
      "  list_df = list_df.append(tmp_se, ignore_index=True)\n",
      "/var/folders/fw/kx5t6xkn0fggtv3vr8c913zc0000gn/T/ipykernel_7481/2669804374.py:24: FutureWarning: The frame.append method is deprecated and will be removed from pandas in a future version. Use pandas.concat instead.\n",
      "  list_df = list_df.append(tmp_se, ignore_index=True)\n",
      "/var/folders/fw/kx5t6xkn0fggtv3vr8c913zc0000gn/T/ipykernel_7481/2669804374.py:24: FutureWarning: The frame.append method is deprecated and will be removed from pandas in a future version. Use pandas.concat instead.\n",
      "  list_df = list_df.append(tmp_se, ignore_index=True)\n",
      "/var/folders/fw/kx5t6xkn0fggtv3vr8c913zc0000gn/T/ipykernel_7481/2669804374.py:24: FutureWarning: The frame.append method is deprecated and will be removed from pandas in a future version. Use pandas.concat instead.\n",
      "  list_df = list_df.append(tmp_se, ignore_index=True)\n"
     ]
    },
    {
     "name": "stdout",
     "output_type": "stream",
     "text": [
      "分析を終了しました\n"
     ]
    },
    {
     "name": "stderr",
     "output_type": "stream",
     "text": [
      "/var/folders/fw/kx5t6xkn0fggtv3vr8c913zc0000gn/T/ipykernel_7481/2669804374.py:24: FutureWarning: The frame.append method is deprecated and will be removed from pandas in a future version. Use pandas.concat instead.\n",
      "  list_df = list_df.append(tmp_se, ignore_index=True)\n"
     ]
    }
   ],
   "source": [
    "import cv2\n",
    "import pandas as pd \n",
    "\n",
    "print(\"分析を開始します\")\n",
    "cap = cv2.VideoCapture(\"mov/mov01.avi\")\n",
    "fps = cap.get(cv2.CAP_PROP_FPS)\n",
    "\n",
    "hog = cv2.HOGDescriptor()\n",
    "hog.setSVMDetector(cv2.HOGDescriptor_getDefaultPeopleDetector())\n",
    "hogParams = {\"winStride\": (8,8), \"padding\":(32,32), \"scale\":1.05, \"hitThreshold\":0, \"finalThreshold\":5}\n",
    "\n",
    "num = 0\n",
    "list_df = pd.DataFrame(columns=[\"time\", \"people\"])\n",
    "while(cap.isOpened()):\n",
    "    ret, frame = cap.read()\n",
    "    if ret:\n",
    "        if (num%10==0):\n",
    "            gray = cv2.cvtColor(frame, cv2.COLOR_BGR2GRAY)\n",
    "            human, r = hog.detectMultiScale(gray, **hogParams)\n",
    "            if (len(human) > 0):\n",
    "                for (x, y, w, h) in human:\n",
    "                    cv2.rectangle(frame, (x,y), (x+w, y+h), (255,255,255), 3)\n",
    "            tmp_se = pd.Series([num/fps, len(human)], index=list_df.columns)\n",
    "            list_df = list_df.append(tmp_se, ignore_index=True)\n",
    "            if cv2.waitKey(1) & 0xFF == ord(\"q\"):\n",
    "                break\n",
    "    else:\n",
    "        break\n",
    "    num = num + 1\n",
    "cap.release()\n",
    "cv2.destroyAllWindows()\n",
    "print(\"分析を終了しました\")"
   ]
  },
  {
   "cell_type": "code",
   "execution_count": 5,
   "metadata": {},
   "outputs": [
    {
     "data": {
      "image/png": "[encoded data removed]",
      "text/plain": [
       "<Figure size 432x288 with 1 Axes>"
      ]
     },
     "metadata": {
      "needs_background": "light"
     },
     "output_type": "display_data"
    }
   ],
   "source": [
    "import matplotlib.pyplot as plt\n",
    "plt.plot(list_df[\"time\"], list_df[\"people\"])\n",
    "plt.xlabel(\"time(sec.)\")\n",
    "plt.ylabel(\"population\")\n",
    "plt.ylim(0,15)\n",
    "plt.show()"
   ]
  },
  {
   "cell_type": "markdown",
   "metadata": {},
   "source": [
    "### ノック８９：人通りの変化をグラフで確認しよう"
   ]
  },
  {
   "cell_type": "code",
   "execution_count": 10,
   "metadata": {},
   "outputs": [
    {
     "name": "stdout",
     "output_type": "stream",
     "text": [
      "分析を開始します\n"
     ]
    },
    {
     "name": "stderr",
     "output_type": "stream",
     "text": [
      "/var/folders/fw/kx5t6xkn0fggtv3vr8c913zc0000gn/T/ipykernel_7481/2447094809.py:26: FutureWarning: The frame.append method is deprecated and will be removed from pandas in a future version. Use pandas.concat instead.\n",
      "  list_df2 = list_df2.append( tmp_se, ignore_index=True )\n",
      "/var/folders/fw/kx5t6xkn0fggtv3vr8c913zc0000gn/T/ipykernel_7481/2447094809.py:26: FutureWarning: The frame.append method is deprecated and will be removed from pandas in a future version. Use pandas.concat instead.\n",
      "  list_df2 = list_df2.append( tmp_se, ignore_index=True )\n",
      "/var/folders/fw/kx5t6xkn0fggtv3vr8c913zc0000gn/T/ipykernel_7481/2447094809.py:26: FutureWarning: The frame.append method is deprecated and will be removed from pandas in a future version. Use pandas.concat instead.\n",
      "  list_df2 = list_df2.append( tmp_se, ignore_index=True )\n",
      "/var/folders/fw/kx5t6xkn0fggtv3vr8c913zc0000gn/T/ipykernel_7481/2447094809.py:26: FutureWarning: The frame.append method is deprecated and will be removed from pandas in a future version. Use pandas.concat instead.\n",
      "  list_df2 = list_df2.append( tmp_se, ignore_index=True )\n",
      "/var/folders/fw/kx5t6xkn0fggtv3vr8c913zc0000gn/T/ipykernel_7481/2447094809.py:26: FutureWarning: The frame.append method is deprecated and will be removed from pandas in a future version. Use pandas.concat instead.\n",
      "  list_df2 = list_df2.append( tmp_se, ignore_index=True )\n",
      "/var/folders/fw/kx5t6xkn0fggtv3vr8c913zc0000gn/T/ipykernel_7481/2447094809.py:26: FutureWarning: The frame.append method is deprecated and will be removed from pandas in a future version. Use pandas.concat instead.\n",
      "  list_df2 = list_df2.append( tmp_se, ignore_index=True )\n",
      "/var/folders/fw/kx5t6xkn0fggtv3vr8c913zc0000gn/T/ipykernel_7481/2447094809.py:26: FutureWarning: The frame.append method is deprecated and will be removed from pandas in a future version. Use pandas.concat instead.\n",
      "  list_df2 = list_df2.append( tmp_se, ignore_index=True )\n",
      "/var/folders/fw/kx5t6xkn0fggtv3vr8c913zc0000gn/T/ipykernel_7481/2447094809.py:26: FutureWarning: The frame.append method is deprecated and will be removed from pandas in a future version. Use pandas.concat instead.\n",
      "  list_df2 = list_df2.append( tmp_se, ignore_index=True )\n",
      "/var/folders/fw/kx5t6xkn0fggtv3vr8c913zc0000gn/T/ipykernel_7481/2447094809.py:26: FutureWarning: The frame.append method is deprecated and will be removed from pandas in a future version. Use pandas.concat instead.\n",
      "  list_df2 = list_df2.append( tmp_se, ignore_index=True )\n",
      "/var/folders/fw/kx5t6xkn0fggtv3vr8c913zc0000gn/T/ipykernel_7481/2447094809.py:26: FutureWarning: The frame.append method is deprecated and will be removed from pandas in a future version. Use pandas.concat instead.\n",
      "  list_df2 = list_df2.append( tmp_se, ignore_index=True )\n",
      "/var/folders/fw/kx5t6xkn0fggtv3vr8c913zc0000gn/T/ipykernel_7481/2447094809.py:26: FutureWarning: The frame.append method is deprecated and will be removed from pandas in a future version. Use pandas.concat instead.\n",
      "  list_df2 = list_df2.append( tmp_se, ignore_index=True )\n",
      "/var/folders/fw/kx5t6xkn0fggtv3vr8c913zc0000gn/T/ipykernel_7481/2447094809.py:26: FutureWarning: The frame.append method is deprecated and will be removed from pandas in a future version. Use pandas.concat instead.\n",
      "  list_df2 = list_df2.append( tmp_se, ignore_index=True )\n",
      "/var/folders/fw/kx5t6xkn0fggtv3vr8c913zc0000gn/T/ipykernel_7481/2447094809.py:26: FutureWarning: The frame.append method is deprecated and will be removed from pandas in a future version. Use pandas.concat instead.\n",
      "  list_df2 = list_df2.append( tmp_se, ignore_index=True )\n",
      "/var/folders/fw/kx5t6xkn0fggtv3vr8c913zc0000gn/T/ipykernel_7481/2447094809.py:26: FutureWarning: The frame.append method is deprecated and will be removed from pandas in a future version. Use pandas.concat instead.\n",
      "  list_df2 = list_df2.append( tmp_se, ignore_index=True )\n",
      "/var/folders/fw/kx5t6xkn0fggtv3vr8c913zc0000gn/T/ipykernel_7481/2447094809.py:26: FutureWarning: The frame.append method is deprecated and will be removed from pandas in a future version. Use pandas.concat instead.\n",
      "  list_df2 = list_df2.append( tmp_se, ignore_index=True )\n",
      "/var/folders/fw/kx5t6xkn0fggtv3vr8c913zc0000gn/T/ipykernel_7481/2447094809.py:26: FutureWarning: The frame.append method is deprecated and will be removed from pandas in a future version. Use pandas.concat instead.\n",
      "  list_df2 = list_df2.append( tmp_se, ignore_index=True )\n",
      "/var/folders/fw/kx5t6xkn0fggtv3vr8c913zc0000gn/T/ipykernel_7481/2447094809.py:26: FutureWarning: The frame.append method is deprecated and will be removed from pandas in a future version. Use pandas.concat instead.\n",
      "  list_df2 = list_df2.append( tmp_se, ignore_index=True )\n",
      "/var/folders/fw/kx5t6xkn0fggtv3vr8c913zc0000gn/T/ipykernel_7481/2447094809.py:26: FutureWarning: The frame.append method is deprecated and will be removed from pandas in a future version. Use pandas.concat instead.\n",
      "  list_df2 = list_df2.append( tmp_se, ignore_index=True )\n",
      "/var/folders/fw/kx5t6xkn0fggtv3vr8c913zc0000gn/T/ipykernel_7481/2447094809.py:26: FutureWarning: The frame.append method is deprecated and will be removed from pandas in a future version. Use pandas.concat instead.\n",
      "  list_df2 = list_df2.append( tmp_se, ignore_index=True )\n",
      "/var/folders/fw/kx5t6xkn0fggtv3vr8c913zc0000gn/T/ipykernel_7481/2447094809.py:26: FutureWarning: The frame.append method is deprecated and will be removed from pandas in a future version. Use pandas.concat instead.\n",
      "  list_df2 = list_df2.append( tmp_se, ignore_index=True )\n",
      "/var/folders/fw/kx5t6xkn0fggtv3vr8c913zc0000gn/T/ipykernel_7481/2447094809.py:26: FutureWarning: The frame.append method is deprecated and will be removed from pandas in a future version. Use pandas.concat instead.\n",
      "  list_df2 = list_df2.append( tmp_se, ignore_index=True )\n",
      "/var/folders/fw/kx5t6xkn0fggtv3vr8c913zc0000gn/T/ipykernel_7481/2447094809.py:26: FutureWarning: The frame.append method is deprecated and will be removed from pandas in a future version. Use pandas.concat instead.\n",
      "  list_df2 = list_df2.append( tmp_se, ignore_index=True )\n",
      "/var/folders/fw/kx5t6xkn0fggtv3vr8c913zc0000gn/T/ipykernel_7481/2447094809.py:26: FutureWarning: The frame.append method is deprecated and will be removed from pandas in a future version. Use pandas.concat instead.\n",
      "  list_df2 = list_df2.append( tmp_se, ignore_index=True )\n",
      "/var/folders/fw/kx5t6xkn0fggtv3vr8c913zc0000gn/T/ipykernel_7481/2447094809.py:26: FutureWarning: The frame.append method is deprecated and will be removed from pandas in a future version. Use pandas.concat instead.\n",
      "  list_df2 = list_df2.append( tmp_se, ignore_index=True )\n",
      "/var/folders/fw/kx5t6xkn0fggtv3vr8c913zc0000gn/T/ipykernel_7481/2447094809.py:26: FutureWarning: The frame.append method is deprecated and will be removed from pandas in a future version. Use pandas.concat instead.\n",
      "  list_df2 = list_df2.append( tmp_se, ignore_index=True )\n",
      "/var/folders/fw/kx5t6xkn0fggtv3vr8c913zc0000gn/T/ipykernel_7481/2447094809.py:26: FutureWarning: The frame.append method is deprecated and will be removed from pandas in a future version. Use pandas.concat instead.\n",
      "  list_df2 = list_df2.append( tmp_se, ignore_index=True )\n",
      "/var/folders/fw/kx5t6xkn0fggtv3vr8c913zc0000gn/T/ipykernel_7481/2447094809.py:26: FutureWarning: The frame.append method is deprecated and will be removed from pandas in a future version. Use pandas.concat instead.\n",
      "  list_df2 = list_df2.append( tmp_se, ignore_index=True )\n",
      "/var/folders/fw/kx5t6xkn0fggtv3vr8c913zc0000gn/T/ipykernel_7481/2447094809.py:26: FutureWarning: The frame.append method is deprecated and will be removed from pandas in a future version. Use pandas.concat instead.\n",
      "  list_df2 = list_df2.append( tmp_se, ignore_index=True )\n",
      "/var/folders/fw/kx5t6xkn0fggtv3vr8c913zc0000gn/T/ipykernel_7481/2447094809.py:26: FutureWarning: The frame.append method is deprecated and will be removed from pandas in a future version. Use pandas.concat instead.\n",
      "  list_df2 = list_df2.append( tmp_se, ignore_index=True )\n",
      "/var/folders/fw/kx5t6xkn0fggtv3vr8c913zc0000gn/T/ipykernel_7481/2447094809.py:26: FutureWarning: The frame.append method is deprecated and will be removed from pandas in a future version. Use pandas.concat instead.\n",
      "  list_df2 = list_df2.append( tmp_se, ignore_index=True )\n",
      "/var/folders/fw/kx5t6xkn0fggtv3vr8c913zc0000gn/T/ipykernel_7481/2447094809.py:26: FutureWarning: The frame.append method is deprecated and will be removed from pandas in a future version. Use pandas.concat instead.\n",
      "  list_df2 = list_df2.append( tmp_se, ignore_index=True )\n",
      "/var/folders/fw/kx5t6xkn0fggtv3vr8c913zc0000gn/T/ipykernel_7481/2447094809.py:26: FutureWarning: The frame.append method is deprecated and will be removed from pandas in a future version. Use pandas.concat instead.\n",
      "  list_df2 = list_df2.append( tmp_se, ignore_index=True )\n",
      "/var/folders/fw/kx5t6xkn0fggtv3vr8c913zc0000gn/T/ipykernel_7481/2447094809.py:26: FutureWarning: The frame.append method is deprecated and will be removed from pandas in a future version. Use pandas.concat instead.\n",
      "  list_df2 = list_df2.append( tmp_se, ignore_index=True )\n",
      "/var/folders/fw/kx5t6xkn0fggtv3vr8c913zc0000gn/T/ipykernel_7481/2447094809.py:26: FutureWarning: The frame.append method is deprecated and will be removed from pandas in a future version. Use pandas.concat instead.\n",
      "  list_df2 = list_df2.append( tmp_se, ignore_index=True )\n",
      "/var/folders/fw/kx5t6xkn0fggtv3vr8c913zc0000gn/T/ipykernel_7481/2447094809.py:26: FutureWarning: The frame.append method is deprecated and will be removed from pandas in a future version. Use pandas.concat instead.\n",
      "  list_df2 = list_df2.append( tmp_se, ignore_index=True )\n",
      "/var/folders/fw/kx5t6xkn0fggtv3vr8c913zc0000gn/T/ipykernel_7481/2447094809.py:26: FutureWarning: The frame.append method is deprecated and will be removed from pandas in a future version. Use pandas.concat instead.\n",
      "  list_df2 = list_df2.append( tmp_se, ignore_index=True )\n",
      "/var/folders/fw/kx5t6xkn0fggtv3vr8c913zc0000gn/T/ipykernel_7481/2447094809.py:26: FutureWarning: The frame.append method is deprecated and will be removed from pandas in a future version. Use pandas.concat instead.\n",
      "  list_df2 = list_df2.append( tmp_se, ignore_index=True )\n",
      "/var/folders/fw/kx5t6xkn0fggtv3vr8c913zc0000gn/T/ipykernel_7481/2447094809.py:26: FutureWarning: The frame.append method is deprecated and will be removed from pandas in a future version. Use pandas.concat instead.\n",
      "  list_df2 = list_df2.append( tmp_se, ignore_index=True )\n",
      "/var/folders/fw/kx5t6xkn0fggtv3vr8c913zc0000gn/T/ipykernel_7481/2447094809.py:26: FutureWarning: The frame.append method is deprecated and will be removed from pandas in a future version. Use pandas.concat instead.\n",
      "  list_df2 = list_df2.append( tmp_se, ignore_index=True )\n",
      "/var/folders/fw/kx5t6xkn0fggtv3vr8c913zc0000gn/T/ipykernel_7481/2447094809.py:26: FutureWarning: The frame.append method is deprecated and will be removed from pandas in a future version. Use pandas.concat instead.\n",
      "  list_df2 = list_df2.append( tmp_se, ignore_index=True )\n",
      "/var/folders/fw/kx5t6xkn0fggtv3vr8c913zc0000gn/T/ipykernel_7481/2447094809.py:26: FutureWarning: The frame.append method is deprecated and will be removed from pandas in a future version. Use pandas.concat instead.\n",
      "  list_df2 = list_df2.append( tmp_se, ignore_index=True )\n"
     ]
    },
    {
     "name": "stdout",
     "output_type": "stream",
     "text": [
      "分析を終了しました\n"
     ]
    }
   ],
   "source": [
    "import cv2\n",
    "import pandas as pd\n",
    "\n",
    "print(\"分析を開始します\")\n",
    "# 映像取得 #\n",
    "cap = cv2.VideoCapture(\"mov/mov02.avi\")\n",
    "fps = cap.get(cv2.CAP_PROP_FPS)\n",
    "\n",
    "# hog宣言 #\n",
    "hog = cv2.HOGDescriptor()\n",
    "hog.setSVMDetector(cv2.HOGDescriptor_getDefaultPeopleDetector())\n",
    "hogParams = {'winStride': (8, 8), 'padding': (32, 32), 'scale': 1.05, 'hitThreshold':0, 'finalThreshold':5}\n",
    "\n",
    "num = 0\n",
    "list_df2 = pd.DataFrame( columns=['time','people'] )\n",
    "while(cap.isOpened()):\n",
    "    ret, frame = cap.read()\n",
    "    if ret:\n",
    "        if (num%10==0):\n",
    "            gray = cv2.cvtColor(frame, cv2.COLOR_BGR2GRAY)\n",
    "            human, r = hog.detectMultiScale(gray, **hogParams)\n",
    "            if (len(human)>0):\n",
    "                for (x, y, w, h) in human:\n",
    "                    cv2.rectangle(frame, (x, y), (x + w, y + h), (255,255,255), 3)\n",
    "            tmp_se = pd.Series( [num/fps,len(human) ], index=list_df.columns )\n",
    "            list_df2 = list_df2.append( tmp_se, ignore_index=True )       \n",
    "            if cv2.waitKey(1) & 0xFF == ord('q'):\n",
    "                break\n",
    "    else:\n",
    "        break\n",
    "    num = num + 1\n",
    "cap.release()\n",
    "cv2.destroyAllWindows()\n",
    "print(\"分析を終了しました\")"
   ]
  },
  {
   "cell_type": "code",
   "execution_count": 11,
   "metadata": {},
   "outputs": [
    {
     "data": {
      "image/png": "[encoded data removed]",
      "text/plain": [
       "<Figure size 432x288 with 1 Axes>"
      ]
     },
     "metadata": {
      "needs_background": "light"
     },
     "output_type": "display_data"
    }
   ],
   "source": [
    "import matplotlib.pyplot as plt\n",
    "plt.plot(list_df2[\"time\"], list_df2[\"people\"])\n",
    "plt.xlabel('time(sec.)')\n",
    "plt.ylabel('population')\n",
    "plt.ylim(0,15)\n",
    "plt.show()"
   ]
  },
  {
   "cell_type": "markdown",
   "metadata": {},
   "source": [
    "### ノック９０：移動平均を計算することでノイズの影響を除去しよう"
   ]
  },
  {
   "cell_type": "code",
   "execution_count": 12,
   "metadata": {},
   "outputs": [],
   "source": [
    "import numpy as np \n",
    "def moving_average(x, y):\n",
    "    y_conv = np.convolve(y, np.ones(5)/float(5), mode=\"valid\")\n",
    "    x_dat = np.linspace(np.min(x), np.max(x), np.size(y_conv))\n",
    "    return x_dat, y_conv"
   ]
  },
  {
   "cell_type": "code",
   "execution_count": 13,
   "metadata": {},
   "outputs": [
    {
     "data": {
      "image/png": "[encoded data removed]",
      "text/plain": [
       "<Figure size 432x288 with 1 Axes>"
      ]
     },
     "metadata": {
      "needs_background": "light"
     },
     "output_type": "display_data"
    }
   ],
   "source": [
    "plt.plot(list_df[\"time\"], list_df[\"people\"], label=\"raw\")\n",
    "ma_x, ma_y = moving_average(list_df[\"time\"], list_df[\"people\"])\n",
    "plt.plot(ma_x, ma_y, label=\"average\")\n",
    "plt.xlabel(\"time(sec.)\")\n",
    "plt.ylabel(\"population\")\n",
    "plt.ylim(0,15)\n",
    "plt.legend()\n",
    "plt.show()"
   ]
  },
  {
   "cell_type": "code",
   "execution_count": 14,
   "metadata": {},
   "outputs": [
    {
     "data": {
      "image/png": "[encoded data removed]",
      "text/plain": [
       "<Figure size 432x288 with 1 Axes>"
      ]
     },
     "metadata": {
      "needs_background": "light"
     },
     "output_type": "display_data"
    }
   ],
   "source": [
    "plt.plot(list_df2[\"time\"], list_df2[\"people\"], label=\"raw\")\n",
    "ma_x2, ma_y2 = moving_average(list_df2[\"time\"], list_df2[\"people\"])\n",
    "plt.plot(ma_x2, ma_y2, label=\"average\")\n",
    "plt.xlabel(\"time(sec.)\")\n",
    "plt.ylabel(\"population\")\n",
    "plt.ylim(0,15)\n",
    "plt.legend()\n",
    "plt.show()"
   ]
  },
  {
   "cell_type": "code",
   "execution_count": 15,
   "metadata": {},
   "outputs": [
    {
     "data": {
      "image/png": "[encoded data removed]",
      "text/plain": [
       "<Figure size 432x288 with 1 Axes>"
      ]
     },
     "metadata": {
      "needs_background": "light"
     },
     "output_type": "display_data"
    }
   ],
   "source": [
    "plt.plot(ma_x, ma_y, label=\"1st\")\n",
    "plt.plot(ma_x2, ma_y2, label=\"2nd\")\n",
    "plt.xlabel(\"time(sec.)\")\n",
    "plt.ylabel(\"population\")\n",
    "plt.ylim(0, 15)\n",
    "plt.legend()\n",
    "plt.show()"
   ]
  }
 ],
 "metadata": {
  "kernelspec": {
   "display_name": "Python 3",
   "language": "python",
   "name": "python3"
  },
  "language_info": {
   "codemirror_mode": {
    "name": "ipython",
    "version": 3
   },
   "file_extension": ".py",
   "mimetype": "text/x-python",
   "name": "python",
   "nbconvert_exporter": "python",
   "pygments_lexer": "ipython3",
   "version": "3.9.10"
  }
 },
 "nbformat": 4,
 "nbformat_minor": 2
}
